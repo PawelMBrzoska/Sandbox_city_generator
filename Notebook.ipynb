{
 "cells": [
  {
   "attachments": {},
   "cell_type": "markdown",
   "metadata": {},
   "source": [
    "# V_0.1 Miasta do RPG na Sandboxie\n",
    "\n",
    "> Pomysł jest taki żeby wykorzystać automatyzacje z Pythona do ogarnięcia tego co robi excel i huj.\n",
    "\n",
    "> Trzeba wbić wszystkie te warsztaty jako jakieś obiekty. Może słowniki? Było tak w tym Textowym RPG.\n",
    "\n",
    "> No i można dodać więcej rzeczy?\n",
    "> Podział np. na zawody różne z tych innych... nie wiem."
   ]
  },
  {
   "cell_type": "code",
   "execution_count": 19,
   "metadata": {},
   "outputs": [],
   "source": [
    "# V_0.1 Miasta do RPG na Sandboxie\n",
    "\n",
    "class miasto:\n",
    "    def __init__(self, kowal=None, inne=None):\n",
    "        self.kowal = kowal\n",
    "        self.inne = inne\n",
    "\n"
   ]
  },
  {
   "cell_type": "code",
   "execution_count": 20,
   "metadata": {},
   "outputs": [],
   "source": [
    "m = miasto()\n",
    "\n",
    "m.kowal = 4"
   ]
  }
 ],
 "metadata": {
  "kernelspec": {
   "display_name": "Python 3",
   "language": "python",
   "name": "python3"
  },
  "language_info": {
   "codemirror_mode": {
    "name": "ipython",
    "version": 3
   },
   "file_extension": ".py",
   "mimetype": "text/x-python",
   "name": "python",
   "nbconvert_exporter": "python",
   "pygments_lexer": "ipython3",
   "version": "3.11.1"
  },
  "orig_nbformat": 4,
  "vscode": {
   "interpreter": {
    "hash": "e495c4a3f6690e785cf434f60c92fd69b7df7f934bb17868e67acc811dae5c6f"
   }
  }
 },
 "nbformat": 4,
 "nbformat_minor": 2
}
